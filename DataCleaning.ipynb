{
  "nbformat": 4,
  "nbformat_minor": 0,
  "metadata": {
    "colab": {
      "provenance": []
    },
    "kernelspec": {
      "name": "python3",
      "display_name": "Python 3"
    },
    "language_info": {
      "name": "python"
    }
  },
  "cells": [
    {
      "cell_type": "code",
      "execution_count": null,
      "metadata": {
        "colab": {
          "base_uri": "https://localhost:8080/"
        },
        "id": "NtpQt7EeUdvA",
        "outputId": "044b0bd0-51ef-4035-ebba-37742385a2bb"
      },
      "outputs": [
        {
          "output_type": "stream",
          "name": "stdout",
          "text": [
            "Mounted at /content/drive/\n",
            "/content/drive/My Drive\n"
          ]
        }
      ],
      "source": [
        "import pandas as pd\n",
        "import re\n",
        "#https://www.kaggle.com/datasets/ganiyuolalekan/spam-assassin-email-classification-dataset/data\n",
        "\n",
        "from google.colab import drive\n",
        "\n",
        "drive.mount('/content/drive/')\n",
        "%cd '/content/drive/My Drive/'\n",
        "\n",
        "df = pd.read_csv('spam_assassin.csv')"
      ]
    },
    {
      "cell_type": "code",
      "source": [
        "emailComponents = {}\n",
        "\n",
        "def computeEmailBounds(text):\n",
        "  global emailComponents\n",
        "\n",
        "  test = \"([A-Z][a-z]+: |[A-Z][a-z]*-[A-Z][a-z]+: )\"\n",
        "  opts = re.findall(test,text)\n",
        "\n",
        "  if(opts[-1] not in emailComponents):\n",
        "    emailComponents[opts[-1]] = 0;\n",
        "  emailComponents[opts[-1]] = emailComponents[opts[-1]]+1\n",
        "\n",
        "df.apply(lambda x: computeEmailBounds(x['text']), axis=1)\n",
        "lastComponents = dict(sorted(emailComponents.items(), key=lambda item: item[1], reverse=True))\n",
        "\n",
        "\n",
        "print(lastComponents)"
      ],
      "metadata": {
        "colab": {
          "base_uri": "https://localhost:8080/"
        },
        "id": "7_VJ_TWWtp2W",
        "outputId": "c3b5a486-b6eb-4ab0-ef65-8e5609f5827f"
      },
      "execution_count": null,
      "outputs": [
        {
          "output_type": "stream",
          "name": "stdout",
          "text": [
            "{'Date: ': 2129, 'Transfer-Encoding: ': 876, 'Group: ': 582, 'Content-Type: ': 267, 'Subject: ': 165, 'X-Keywords: ': 106, 'Comment: ': 100, 'From: ': 87, 'Reply-To: ': 77, 'Re: ': 68, 'Message-Id: ': 61, 'References: ': 59, 'Events: ': 54, 'Links: ': 38, 'E-Autoconverted: ': 38, 'Version: ': 37, 'X-Beenthere: ': 33, 'Systems: ': 32, 'X-Mailer: ': 30, 'Content-Disposition: ': 29, 'Acceptable-Languages: ': 26, 'Note: ': 26, 'To: ': 23, 'Msmail-Priority: ': 21, 'Index: ': 21, 'Price: ': 19, 'Address: ': 15, 'Fax: ': 15, 'Instructions: ': 15, 'X-Originalarrivaltime: ': 14, 'Resent-Date: ': 14, 'Symbol: ': 12, 'Visit: ': 12, 'Warning: ': 12, 'Report: ': 11, 'Sender: ': 11, 'Messenger: ': 11, 'Facts: ': 10, 'Importance: ': 9, 'Code: ': 9, 'Reason: ': 9, 'Y-Database: ': 9, 'Phone: ': 8, 'Page: ': 8, 'Disclaimer: ': 8, 'Errors-To: ': 8, 'Time: ': 8, 'Precedence: ': 8, 'X-Priority: ': 8, 'X-Library: ': 7, 'Will: ': 7, 'Remember: ': 7, 'Unsubscribe: ': 7, 'No: ': 7, 'List-Archive: ': 6, 'Site: ': 6, 'News: ': 6, 'Email: ': 6, 'Message: ': 6, 'Summary: ': 6, 'Trader: ': 6, 'Tagline: ': 6, 'Example: ': 6, 'Here: ': 6, 'Hint: ': 5, 'Information: ': 5, 'Signature: ': 5, 'X-Mimeole: ': 5, 'List: ': 5, 'Me: ': 4, 'Cc: ': 4, 'Harley: ': 4, 'Director: ': 4, 'Just: ': 4, 'Status: ': 4, 'Sie: ': 4, 'Link: ': 4, 'Spam-Status: ': 4, 'Released: ': 4, 'Commission: ': 4, 'Tel: ': 4, 'G-Userid: ': 4, 'Mime-Version: ': 3, 'Websites: ': 3, 'Lowery: ': 3, 'Size: ': 3, 'X-Sluidl: ': 3, 'Host: ': 3, 'Resume: ': 3, 'Web: ': 3, 'Out: ': 3, 'Notes: ': 3, 'Sensitivity: ': 3, 'Error: ': 3, 'Requires: ': 3, 'Cause: ': 3, 'Settlements: ': 3, 'Murphy: ': 3, 'Internet: ': 3, 'Free: ': 3, 'Also: ': 3, 'Return: ': 3, 'Islam: ': 3, 'By: ': 3, 'Rebranding: ': 3, 'Consciousness: ': 2, 'Fingerprint: ': 2, 'Advantage: ': 2, 'Attention: ': 2, 'Add: ': 2, 'Home-Mailers: ': 2, 'Deal: ': 2, 'Norm: ': 2, 'User-Agent: ': 2, 'Hash: ': 2, 'Text: ': 2, 'Sport: ': 2, 'Wolff: ': 2, 'Document: ': 2, 'Distribution: ': 2, 'Now: ': 2, 'Standard: ': 2, 'Politech: ': 2, 'Id: ': 2, 'Equipment: ': 2, 'Architectures: ': 2, 'Leitl: ': 2, 'Cost: ': 2, 'Dept: ': 2, 'Recommended: ': 2, 'Hi: ': 2, 'Depends: ': 2, 'Hettinga: ': 2, 'Opt-In: ': 2, 'Question: ': 2, 'Alert: ': 2, 'Sent: ': 2, 'Tony: ': 2, 'Spam-Level: ': 2, 'Business: ': 2, 'Content-Location: ': 2, 'Offers: ': 2, 'Euro: ': 2, 'America: ': 2, 'Hall: ': 2, 'Byrne: ': 2, 'Mail: ': 2, 'Inspectors: ': 2, 'Martin: ': 2, 'Postal: ': 2, 'York: ': 2, 'Congressman: ': 2, 'Hometown: ': 2, 'Originating-Ip: ': 2, 'Times: ': 2, 'Turpin: ': 2, 'Number: ': 2, 'Nice: ': 2, 'Like: ': 2, 'Dn: ': 2, 'X-Razor: ': 2, 'Beberg: ': 2, 'Card: ': 2, 'Website: ': 2, 'Users: ': 1, 'Dish: ': 1, 'Jefferson: ': 1, 'Slashdot: ': 1, 'Medicine: ': 1, 'Dictionary: ': 1, 'Taliban: ': 1, 'A-Car: ': 1, 'Nabbed: ': 1, 'Profile: ': 1, 'Conflicts: ': 1, 'Net: ': 1, 'Geege: ': 1, 'Kids: ': 1, 'Homepage: ': 1, 'Deliver-To: ': 1, 'Quote: ': 1, 'Phoe: ': 1, 'Engineering: ': 1, 'Capacity: ': 1, 'Testimonial: ': 1, 'There: ': 1, 'Testimonies: ': 1, 'Hello: ': 1, 'Afghanistan: ': 1, 'Saturday: ': 1, 'Scenario: ': 1, 'Article: ': 1, 'Successful: ': 1, 'Financial: ': 1, 'Words: ': 1, 'Halo: ': 1, 'Allaire: ': 1, 'Guil: ': 1, 'Originating-Server: ': 1, 'Onward: ': 1, 'Server: ': 1, 'Charts: ': 1, 'Content-Length: ': 1, 'Debt: ': 1, 'Review: ': 1, 'Preference: ': 1, 'States: ': 1, 'Canada: ': 1, 'Features: ': 1, 'Game: ': 1, 'Comments: ': 1, 'Caltech: ': 1, 'Radar: ': 1, 'Donahue: ': 1, 'Nash: ': 1, 'Palladium: ': 1, 'Mentioned: ': 1, 'Services: ': 1, 'Gojomo: ': 1, 'Nonetheless: ': 1, 'Nope: ': 1, 'Genome: ': 1, 'Scotland: ': 1, 'Macs: ': 1, 'Tech: ': 1, 'For: ': 1, 'Gun: ': 1, 'Stocks: ': 1, 'Germany: ': 1, 'Science: ': 1, 'Phrase: ': 1, 'Valley: ': 1, 'Wind: ': 1, 'Grott: ': 1, 'Desire: ': 1, 'Design: ': 1, 'Everyone: ': 1, 'Yahoo: ': 1, 'Farber: ': 1, 'Gillmor: ': 1, 'Mail-Priority: ': 1, 'Bob: ': 1, 'Videos: ': 1, 'Virus-Scanned: ': 1, 'Rude: ': 1, 'Counterpoint: ': 1, 'Everitt: ': 1, 'X-Meow: ': 1, 'Forestry: ': 1, 'Com: ': 1, 'Clues: ': 1, 'Us: ': 1, 'City: ': 1, 'House: ': 1, 'Remove: ': 1, 'List-Id: ': 1, 'Skipjacks: ': 1, 'Shock: ': 1, 'Klez: ': 1, 'Limit: ': 1, 'Feature: ': 1, 'Rant: ': 1, 'Start: ': 1, 'Configurations: ': 1, 'Response: ': 1, 'Interest: ': 1, 'Rall: ': 1, 'Vendor: ': 1, 'Commissions: ': 1, 'Yuck: ': 1, 'Rosencrantz: ': 1, 'Bill: ': 1, 'Syntax: ': 1, 'Blaine: ': 1, 'Ls: ': 1, 'Ananova: ': 1, 'Postscript: ': 1, 'Unsubscribing: ': 1, 'Tribune: ': 1, 'Perks: ': 1, 'Pacific: ': 1, 'Dollar: ': 1, 'Jacobs: ': 1, 'Issued: ': 1, 'Origins: ': 1, 'System: ': 1, 'State: ': 1, 'Delivery-Agent: ': 1, 'X-Sender: ': 1, 'Drummies: ': 1, 'Hanging: ': 1, 'Translation: ': 1, 'None: ': 1, 'Bandwidth: ': 1, 'User: ': 1, 'Results: ': 1, 'However: ': 1, 'Savings: ': 1, 'Mohr: ': 1, 'Obsoletes: ': 1, 'Source: ': 1, 'Greetings: ': 1, 'Bolcer: ': 1, 'English: ': 1, 'Standardization: ': 1, 'Total: ': 1, 'Liberation: ': 1, 'Politics: ': 1, 'Thought: ': 1, 'Text-Classification: ': 1, 'Rogers: ': 1, 'Nb: ': 1, 'Companion: ': 1, 'Tim: ': 1, 'Filed: ': 1, 'Down: ': 1, 'East: ': 1, 'Trek: ': 1, 'G-Key: ': 1, 'Box: ': 1, 'Chatroom: ': 1, 'Poor: ': 1, 'Drivers: ': 1, 'Encoding: ': 1, 'Gonze: ': 1, 'Emne: ': 1, 'Schaefer: ': 1, 'Principle: ': 1, 'War: ': 1, 'Delivered-To: ': 1, 'Cron-Env: ': 1, 'Header: ': 1, 'Daniel: ': 1, 'Napster: ': 1, 'Xlib: ': 1, 'Subdevices: ': 1, 'Income: ': 1, 'Cartoon: ': 1, 'Info: ': 1, 'Quiz: ': 1, 'Suggestion: ': 1, 'Algo: ': 1, 'Brent: ': 1, 'Unrecognised: ': 1, 'Tectonics: ': 1, 'Ozzie: ': 1, 'Football: ': 1, 'Archer: ': 1, 'Notice: ': 1, 'Tuesday: ': 1, 'Weekly: ': 1, 'Finally: ': 1, 'Offer: ': 1}\n"
          ]
        }
      ]
    },
    {
      "cell_type": "code",
      "source": [
        "print(lastComponents['From: '])"
      ],
      "metadata": {
        "colab": {
          "base_uri": "https://localhost:8080/"
        },
        "id": "O78YTOHpDrjL",
        "outputId": "3102b4d1-1e42-451d-abac-0997ce22c9e1"
      },
      "execution_count": null,
      "outputs": [
        {
          "output_type": "stream",
          "name": "stdout",
          "text": [
            "87\n"
          ]
        }
      ]
    },
    {
      "cell_type": "code",
      "source": [
        "def findData(text):\n",
        "  if(text[0:4] == 'From'):\n",
        "\n",
        "    #senderInfo = text.split(\"From:\")[1].split(\"To:\")[0].split(\">\")[0].split(\"<\")[1]\n",
        "\n",
        "    #dateInfo = text.split(\"Date:\")[1].split(\"From:\")[0]\n",
        "\n",
        "    #subjectInfo = text.split(\"Subject:\")[1].split(\"Message-Id:\")[0]\n",
        "\n",
        "    test = \"([A-Z][a-z]+: |[A-Z][a-z]+-[A-Z][a-z]+: )\"\n",
        "    opts = re.findall(test,text)\n",
        "    opts.reverse()\n",
        "\n",
        "    senderInfo = \"N/A\"\n",
        "    if(\"From: \" in opts):\n",
        "      precedingIndex = opts.index(\"From: \")-1\n",
        "      if(precedingIndex >= 0):\n",
        "        senderInfo = text.split(\"From: \")[-1].split(opts[precedingIndex])[0]\n",
        "\n",
        "    dateInfo = \"N/A\"\n",
        "    if(\"Date: \" in opts):\n",
        "      precedingIndex = opts.index(\"Date: \")-1\n",
        "      if(precedingIndex >= 0):\n",
        "        dateInfo = text.split(\"Date: \")[-1].split(opts[precedingIndex])[0]\n",
        "\n",
        "    subjectInfo = \"N/A\"\n",
        "    if(\"Subject: \" in opts):\n",
        "      precedingIndex = opts.index(\"Subject: \")-1\n",
        "      if(precedingIndex >= 0):\n",
        "        subjectInfo = text.split(\"Subject: \")[-1].split(opts[precedingIndex])[0]\n",
        "        if(subjectInfo == \"\"):\n",
        "          subjectInfo = \"N/A\"\n",
        "\n",
        "    messageInfo = \"None\"\n",
        "    for op in opts:\n",
        "      if(messageInfo == \"None\"):\n",
        "        if(op not in lastComponents):\n",
        "          continue\n",
        "        else:\n",
        "          if(lastComponents[op] >= 30):\n",
        "            messageInfo = text.split(op)[1]\n",
        "      else:\n",
        "          if(len(messageInfo) < 2*len(text.split(op)[1])):\n",
        "            messageInfo = text.split(op)[1]\n",
        "          break\n",
        "\n",
        "    return senderInfo +\"|\"+ dateInfo +\"|\"+ subjectInfo+\"|\"+messageInfo\n",
        "\n"
      ],
      "metadata": {
        "id": "YXh3flyfXXI1"
      },
      "execution_count": null,
      "outputs": []
    },
    {
      "cell_type": "code",
      "source": [
        "pd.set_option('display.max_colwidth', None)\n",
        "df['clean_text'] = df.apply(lambda x: findData(x['text']), axis=1)"
      ],
      "metadata": {
        "id": "6a8yV4rKcVoR"
      },
      "execution_count": null,
      "outputs": []
    },
    {
      "cell_type": "code",
      "source": [
        "df['clean_text'].head()\n",
        "cleanDF = df.drop('text', axis=1)"
      ],
      "metadata": {
        "id": "DxcxY5GHgaNB"
      },
      "execution_count": null,
      "outputs": []
    },
    {
      "cell_type": "code",
      "source": [
        "cleanDF.to_csv('cleanedSpamData.csv')"
      ],
      "metadata": {
        "id": "GKKBvluFOjvO"
      },
      "execution_count": null,
      "outputs": []
    }
  ]
}